{
 "cells": [
  {
   "cell_type": "markdown",
   "id": "ad8d4bc5",
   "metadata": {},
   "source": [
    "# Build A Text Summariser Using LLMs with Hugging Face"
   ]
  },
  {
   "cell_type": "markdown",
   "id": "6bc506de",
   "metadata": {},
   "source": [
    "In this notebook, we'll use the Hugging Face Transformers library and the `datasets` package to create a summarization pipeline. The goal is to input a text and generate a summary of that text.\n",
    "\n",
    "pip install sacremoses==0.0.53\n",
    "\n",
    "pip install datasets\n",
    "\n",
    "pip install transformers\n",
    "\n",
    "pip install torch torchvision torchaudio"
   ]
  },
  {
   "cell_type": "markdown",
   "id": "e6846af3",
   "metadata": {},
   "source": [
    "In this section, we import the required libraries:\n",
    "\n",
    "- `datasets` to load the dataset.\n",
    "- `transformers` to create a summarization pipeline."
   ]
  },
  {
   "cell_type": "code",
   "execution_count": 4,
   "id": "c8ef793a",
   "metadata": {},
   "outputs": [],
   "source": [
    "from datasets import load_dataset \n",
    "from transformers import pipeline"
   ]
  },
  {
   "cell_type": "markdown",
   "id": "9d4fca13",
   "metadata": {},
   "source": [
    "### Create Summarization Pipeline\n",
    "\n",
    "We create a summarization pipeline using the T5-small model. This pipeline will allow us to summarize the input text. We specify parameters like `min_length` and `max_length` to control the length of the generated summary.\n"
   ]
  },
  {
   "cell_type": "code",
   "execution_count": 5,
   "id": "6cc2fd93",
   "metadata": {},
   "outputs": [],
   "source": [
    "summarizer = pipeline(\n",
    "    task=\"summarization\",\n",
    "    model=\"t5-small\",\n",
    "    min_length=20,\n",
    "    max_length=40,\n",
    "    truncation=True,\n",
    "    model_kwargs={\"cache_dir\": '/Documents/Huggin_Face/'},\n",
    ") "
   ]
  },
  {
   "cell_type": "markdown",
   "id": "39a73c78",
   "metadata": {},
   "source": [
    "### Input Text\n",
    "\n",
    "We prompt the user to enter the text they want to summarize and store it in the `input_text` variable.\n"
   ]
  },
  {
   "cell_type": "code",
   "execution_count": 9,
   "id": "cc8b01ad",
   "metadata": {},
   "outputs": [
    {
     "name": "stdout",
     "output_type": "stream",
     "text": [
      "Enter the text you want to summarize: Post caption: I remember, a few years ago, when @armaanmalik and I were talking about life together, I mentioned that whenever we do get engaged, I would want to throw a little party at @gallopsmumbai to celebrate with our loved ones. At that point, even though we had no clarity on when we planned on taking this next step, the one thing I was very sure of, was where the celebration would happen. I’ve always loved Gallops, not only for how beautiful it is and because the food is impeccable, but also because @chefyajushmalik is the nicest human, and always makes us feel like we’re home. Couldn’t have imagined this special evening anywhere else 🥰\n"
     ]
    }
   ],
   "source": [
    "input_text = input(\"Enter the text you want to summarize: \")"
   ]
  },
  {
   "cell_type": "markdown",
   "id": "b009cc6d",
   "metadata": {},
   "source": [
    "### Generate Summary\n",
    "\n",
    "We generate the summary for the input text using the summarization pipeline and store it in the `summary` variable.\n"
   ]
  },
  {
   "cell_type": "code",
   "execution_count": 10,
   "id": "72671d04",
   "metadata": {},
   "outputs": [],
   "source": [
    "# Generate the summary\n",
    "summary = summarizer(input_text, max_length=150, min_length=30, do_sample=False)[0]['summary_text']"
   ]
  },
  {
   "cell_type": "markdown",
   "id": "8ade24f2",
   "metadata": {},
   "source": [
    "### Split Summary into Bullet Points\n",
    "\n",
    "We split the summary into bullet points by assuming that sentences are separated by periods (\". \"). Each bullet point is printed.\n"
   ]
  },
  {
   "cell_type": "code",
   "execution_count": 11,
   "id": "eaa93a99",
   "metadata": {},
   "outputs": [
    {
     "name": "stdout",
     "output_type": "stream",
     "text": [
      "- @armaanmalik and I were talking about life together a few years ago \n",
      "- when we did get engaged, I would want to throw a little party at @gallopsmumbai to celebrate with our loved ones \n",
      "- the food is impeccable, but also because it makes us feel like we’re home .\n"
     ]
    }
   ],
   "source": [
    "bullet_points = summary.split(\". \")\n",
    "for point in bullet_points:\n",
    "    \n",
    "    print(f\"- {point}\")"
   ]
  },
  {
   "cell_type": "markdown",
   "id": "c1664995",
   "metadata": {},
   "source": [
    "### Final Summary\n",
    "\n",
    "We print the generated summary."
   ]
  },
  {
   "cell_type": "code",
   "execution_count": 12,
   "id": "d600d0f0",
   "metadata": {},
   "outputs": [
    {
     "name": "stdout",
     "output_type": "stream",
     "text": [
      "Summary: @armaanmalik and I were talking about life together a few years ago . when we did get engaged, I would want to throw a little party at @gallopsmumbai to celebrate with our loved ones . the food is impeccable, but also because it makes us feel like we’re home .\n"
     ]
    }
   ],
   "source": [
    "# Print the generated summary\n",
    "print(\"Summary:\", summary)"
   ]
  },
  {
   "cell_type": "code",
   "execution_count": null,
   "id": "cbce1d1d",
   "metadata": {},
   "outputs": [],
   "source": []
  }
 ],
 "metadata": {
  "kernelspec": {
   "display_name": "Python 3 (ipykernel)",
   "language": "python",
   "name": "python3"
  },
  "language_info": {
   "codemirror_mode": {
    "name": "ipython",
    "version": 3
   },
   "file_extension": ".py",
   "mimetype": "text/x-python",
   "name": "python",
   "nbconvert_exporter": "python",
   "pygments_lexer": "ipython3",
   "version": "3.11.5"
  }
 },
 "nbformat": 4,
 "nbformat_minor": 5
}
